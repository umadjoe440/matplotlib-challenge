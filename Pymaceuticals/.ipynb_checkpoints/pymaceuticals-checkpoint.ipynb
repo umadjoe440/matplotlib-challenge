{
 "cells": [
  {
   "cell_type": "code",
   "execution_count": 1,
   "metadata": {},
   "outputs": [],
   "source": [
    "# Dependencies and Setup\n",
    "%matplotlib inline\n",
    "import matplotlib.pyplot as plt\n",
    "import pandas as pd\n",
    "import numpy as np\n",
    "\n",
    "# Hide warning messages in notebook\n",
    "import warnings\n",
    "warnings.filterwarnings('ignore')\n",
    "\n",
    "# File to Load (Remember to Change These)\n",
    "mouse_drug_data_to_load = \"data/mouse_drug_data.csv\"\n",
    "clinical_trial_data_to_load = \"data/clinicaltrial_data.csv\"\n",
    "\n",
    "# Read the Mouse and Drug Data and the Clinical Trial Data\n",
    "#mouse file has 250 rows of data\n",
    "mouse_df = pd.read_csv(mouse_drug_data_to_load)\n",
    "\n",
    "#clinical file has 1893 rows of data\n",
    "clinical_df = pd.read_csv(clinical_trial_data_to_load)\n",
    "\n",
    "# Combine the data into a single dataset\n",
    "mouse_clinical_df = pd.merge(mouse_df, clinical_df, on='Mouse ID')\n",
    "\n",
    "# Display the data table for preview"
   ]
  },
  {
   "cell_type": "code",
   "execution_count": 2,
   "metadata": {},
   "outputs": [
    {
     "data": {
      "text/html": [
       "<div>\n",
       "<style scoped>\n",
       "    .dataframe tbody tr th:only-of-type {\n",
       "        vertical-align: middle;\n",
       "    }\n",
       "\n",
       "    .dataframe tbody tr th {\n",
       "        vertical-align: top;\n",
       "    }\n",
       "\n",
       "    .dataframe thead th {\n",
       "        text-align: right;\n",
       "    }\n",
       "</style>\n",
       "<table border=\"1\" class=\"dataframe\">\n",
       "  <thead>\n",
       "    <tr style=\"text-align: right;\">\n",
       "      <th></th>\n",
       "      <th>Mouse ID</th>\n",
       "      <th>Drug</th>\n",
       "      <th>Timepoint</th>\n",
       "      <th>Tumor Volume (mm3)</th>\n",
       "      <th>Metastatic Sites</th>\n",
       "    </tr>\n",
       "  </thead>\n",
       "  <tbody>\n",
       "    <tr>\n",
       "      <td>0</td>\n",
       "      <td>f234</td>\n",
       "      <td>Stelasyn</td>\n",
       "      <td>0</td>\n",
       "      <td>45.000000</td>\n",
       "      <td>0</td>\n",
       "    </tr>\n",
       "    <tr>\n",
       "      <td>1</td>\n",
       "      <td>f234</td>\n",
       "      <td>Stelasyn</td>\n",
       "      <td>5</td>\n",
       "      <td>47.313491</td>\n",
       "      <td>0</td>\n",
       "    </tr>\n",
       "    <tr>\n",
       "      <td>2</td>\n",
       "      <td>f234</td>\n",
       "      <td>Stelasyn</td>\n",
       "      <td>10</td>\n",
       "      <td>47.904324</td>\n",
       "      <td>0</td>\n",
       "    </tr>\n",
       "    <tr>\n",
       "      <td>3</td>\n",
       "      <td>f234</td>\n",
       "      <td>Stelasyn</td>\n",
       "      <td>15</td>\n",
       "      <td>48.735197</td>\n",
       "      <td>1</td>\n",
       "    </tr>\n",
       "    <tr>\n",
       "      <td>4</td>\n",
       "      <td>f234</td>\n",
       "      <td>Stelasyn</td>\n",
       "      <td>20</td>\n",
       "      <td>51.112713</td>\n",
       "      <td>2</td>\n",
       "    </tr>\n",
       "  </tbody>\n",
       "</table>\n",
       "</div>"
      ],
      "text/plain": [
       "  Mouse ID      Drug  Timepoint  Tumor Volume (mm3)  Metastatic Sites\n",
       "0     f234  Stelasyn          0           45.000000                 0\n",
       "1     f234  Stelasyn          5           47.313491                 0\n",
       "2     f234  Stelasyn         10           47.904324                 0\n",
       "3     f234  Stelasyn         15           48.735197                 1\n",
       "4     f234  Stelasyn         20           51.112713                 2"
      ]
     },
     "execution_count": 2,
     "metadata": {},
     "output_type": "execute_result"
    }
   ],
   "source": [
    "mouse_clinical_df.head()\n"
   ]
  },
  {
   "cell_type": "code",
   "execution_count": 3,
   "metadata": {},
   "outputs": [
    {
     "data": {
      "text/html": [
       "<div>\n",
       "<style scoped>\n",
       "    .dataframe tbody tr th:only-of-type {\n",
       "        vertical-align: middle;\n",
       "    }\n",
       "\n",
       "    .dataframe tbody tr th {\n",
       "        vertical-align: top;\n",
       "    }\n",
       "\n",
       "    .dataframe thead th {\n",
       "        text-align: right;\n",
       "    }\n",
       "</style>\n",
       "<table border=\"1\" class=\"dataframe\">\n",
       "  <thead>\n",
       "    <tr style=\"text-align: right;\">\n",
       "      <th></th>\n",
       "      <th>Drug</th>\n",
       "      <th>Timepoint</th>\n",
       "      <th>Tumor Volume (mm3)</th>\n",
       "    </tr>\n",
       "  </thead>\n",
       "  <tbody>\n",
       "    <tr>\n",
       "      <td>0</td>\n",
       "      <td>Capomulin</td>\n",
       "      <td>0</td>\n",
       "      <td>45.000000</td>\n",
       "    </tr>\n",
       "    <tr>\n",
       "      <td>1</td>\n",
       "      <td>Capomulin</td>\n",
       "      <td>5</td>\n",
       "      <td>44.266086</td>\n",
       "    </tr>\n",
       "    <tr>\n",
       "      <td>2</td>\n",
       "      <td>Capomulin</td>\n",
       "      <td>10</td>\n",
       "      <td>43.084291</td>\n",
       "    </tr>\n",
       "    <tr>\n",
       "      <td>3</td>\n",
       "      <td>Capomulin</td>\n",
       "      <td>15</td>\n",
       "      <td>42.064317</td>\n",
       "    </tr>\n",
       "    <tr>\n",
       "      <td>4</td>\n",
       "      <td>Capomulin</td>\n",
       "      <td>20</td>\n",
       "      <td>40.716325</td>\n",
       "    </tr>\n",
       "  </tbody>\n",
       "</table>\n",
       "</div>"
      ],
      "text/plain": [
       "        Drug  Timepoint  Tumor Volume (mm3)\n",
       "0  Capomulin          0           45.000000\n",
       "1  Capomulin          5           44.266086\n",
       "2  Capomulin         10           43.084291\n",
       "3  Capomulin         15           42.064317\n",
       "4  Capomulin         20           40.716325"
      ]
     },
     "execution_count": 3,
     "metadata": {},
     "output_type": "execute_result"
    }
   ],
   "source": [
    "#mean_tumor_df = mouse_clinical_df.groupby('Drug','Timepoint')['Tumor Volume (mm3)'].mean().to_frame().reset_index()\n",
    "mean_tumor_df = mouse_clinical_df.groupby([\"Drug\",\"Timepoint\"])[\"Tumor Volume (mm3)\"].mean().reset_index()\n",
    "mean_tumor_df.head()"
   ]
  },
  {
   "cell_type": "code",
   "execution_count": 8,
   "metadata": {},
   "outputs": [
    {
     "data": {
      "text/html": [
       "<div>\n",
       "<style scoped>\n",
       "    .dataframe tbody tr th:only-of-type {\n",
       "        vertical-align: middle;\n",
       "    }\n",
       "\n",
       "    .dataframe tbody tr th {\n",
       "        vertical-align: top;\n",
       "    }\n",
       "\n",
       "    .dataframe thead th {\n",
       "        text-align: right;\n",
       "    }\n",
       "</style>\n",
       "<table border=\"1\" class=\"dataframe\">\n",
       "  <thead>\n",
       "    <tr style=\"text-align: right;\">\n",
       "      <th></th>\n",
       "      <th>Drug</th>\n",
       "      <th>Timepoint</th>\n",
       "      <th>Tumor Volume (mm3)</th>\n",
       "    </tr>\n",
       "  </thead>\n",
       "  <tbody>\n",
       "    <tr>\n",
       "      <td>0</td>\n",
       "      <td>Capomulin</td>\n",
       "      <td>0</td>\n",
       "      <td>0.000000</td>\n",
       "    </tr>\n",
       "    <tr>\n",
       "      <td>1</td>\n",
       "      <td>Capomulin</td>\n",
       "      <td>5</td>\n",
       "      <td>0.448593</td>\n",
       "    </tr>\n",
       "    <tr>\n",
       "      <td>2</td>\n",
       "      <td>Capomulin</td>\n",
       "      <td>10</td>\n",
       "      <td>0.702684</td>\n",
       "    </tr>\n",
       "    <tr>\n",
       "      <td>3</td>\n",
       "      <td>Capomulin</td>\n",
       "      <td>15</td>\n",
       "      <td>0.838617</td>\n",
       "    </tr>\n",
       "    <tr>\n",
       "      <td>4</td>\n",
       "      <td>Capomulin</td>\n",
       "      <td>20</td>\n",
       "      <td>0.909731</td>\n",
       "    </tr>\n",
       "  </tbody>\n",
       "</table>\n",
       "</div>"
      ],
      "text/plain": [
       "        Drug  Timepoint  Tumor Volume (mm3)\n",
       "0  Capomulin          0            0.000000\n",
       "1  Capomulin          5            0.448593\n",
       "2  Capomulin         10            0.702684\n",
       "3  Capomulin         15            0.838617\n",
       "4  Capomulin         20            0.909731"
      ]
     },
     "execution_count": 8,
     "metadata": {},
     "output_type": "execute_result"
    }
   ],
   "source": [
    "mean_tumor_se_df = mouse_clinical_df.groupby([\"Drug\",\"Timepoint\"])[\"Tumor Volume (mm3)\"].sem().reset_index()\n",
    "mean_tumor_se_df.head()"
   ]
  },
  {
   "cell_type": "code",
   "execution_count": 6,
   "metadata": {},
   "outputs": [
    {
     "data": {
      "text/html": [
       "<div>\n",
       "<style scoped>\n",
       "    .dataframe tbody tr th:only-of-type {\n",
       "        vertical-align: middle;\n",
       "    }\n",
       "\n",
       "    .dataframe tbody tr th {\n",
       "        vertical-align: top;\n",
       "    }\n",
       "\n",
       "    .dataframe thead th {\n",
       "        text-align: right;\n",
       "    }\n",
       "</style>\n",
       "<table border=\"1\" class=\"dataframe\">\n",
       "  <thead>\n",
       "    <tr style=\"text-align: right;\">\n",
       "      <th></th>\n",
       "      <th>0</th>\n",
       "      <th>1</th>\n",
       "      <th>2</th>\n",
       "      <th>3</th>\n",
       "      <th>4</th>\n",
       "      <th>5</th>\n",
       "      <th>6</th>\n",
       "      <th>7</th>\n",
       "      <th>8</th>\n",
       "      <th>9</th>\n",
       "      <th>...</th>\n",
       "      <th>90</th>\n",
       "      <th>91</th>\n",
       "      <th>92</th>\n",
       "      <th>93</th>\n",
       "      <th>94</th>\n",
       "      <th>95</th>\n",
       "      <th>96</th>\n",
       "      <th>97</th>\n",
       "      <th>98</th>\n",
       "      <th>99</th>\n",
       "    </tr>\n",
       "  </thead>\n",
       "  <tbody>\n",
       "    <tr>\n",
       "      <td>Drug</td>\n",
       "      <td>Capomulin</td>\n",
       "      <td>Capomulin</td>\n",
       "      <td>Capomulin</td>\n",
       "      <td>Capomulin</td>\n",
       "      <td>Capomulin</td>\n",
       "      <td>Capomulin</td>\n",
       "      <td>Capomulin</td>\n",
       "      <td>Capomulin</td>\n",
       "      <td>Capomulin</td>\n",
       "      <td>Capomulin</td>\n",
       "      <td>...</td>\n",
       "      <td>Zoniferol</td>\n",
       "      <td>Zoniferol</td>\n",
       "      <td>Zoniferol</td>\n",
       "      <td>Zoniferol</td>\n",
       "      <td>Zoniferol</td>\n",
       "      <td>Zoniferol</td>\n",
       "      <td>Zoniferol</td>\n",
       "      <td>Zoniferol</td>\n",
       "      <td>Zoniferol</td>\n",
       "      <td>Zoniferol</td>\n",
       "    </tr>\n",
       "    <tr>\n",
       "      <td>Timepoint</td>\n",
       "      <td>0</td>\n",
       "      <td>5</td>\n",
       "      <td>10</td>\n",
       "      <td>15</td>\n",
       "      <td>20</td>\n",
       "      <td>25</td>\n",
       "      <td>30</td>\n",
       "      <td>35</td>\n",
       "      <td>40</td>\n",
       "      <td>45</td>\n",
       "      <td>...</td>\n",
       "      <td>0</td>\n",
       "      <td>5</td>\n",
       "      <td>10</td>\n",
       "      <td>15</td>\n",
       "      <td>20</td>\n",
       "      <td>25</td>\n",
       "      <td>30</td>\n",
       "      <td>35</td>\n",
       "      <td>40</td>\n",
       "      <td>45</td>\n",
       "    </tr>\n",
       "    <tr>\n",
       "      <td>Tumor Volume (mm3)</td>\n",
       "      <td>45</td>\n",
       "      <td>44.2661</td>\n",
       "      <td>43.0843</td>\n",
       "      <td>42.0643</td>\n",
       "      <td>40.7163</td>\n",
       "      <td>39.9395</td>\n",
       "      <td>38.7693</td>\n",
       "      <td>37.8168</td>\n",
       "      <td>36.958</td>\n",
       "      <td>36.2361</td>\n",
       "      <td>...</td>\n",
       "      <td>45</td>\n",
       "      <td>46.8518</td>\n",
       "      <td>48.6899</td>\n",
       "      <td>50.7791</td>\n",
       "      <td>53.1703</td>\n",
       "      <td>55.4329</td>\n",
       "      <td>57.7135</td>\n",
       "      <td>60.0894</td>\n",
       "      <td>62.9167</td>\n",
       "      <td>65.9609</td>\n",
       "    </tr>\n",
       "  </tbody>\n",
       "</table>\n",
       "<p>3 rows × 100 columns</p>\n",
       "</div>"
      ],
      "text/plain": [
       "                           0          1          2          3          4   \\\n",
       "Drug                Capomulin  Capomulin  Capomulin  Capomulin  Capomulin   \n",
       "Timepoint                   0          5         10         15         20   \n",
       "Tumor Volume (mm3)         45    44.2661    43.0843    42.0643    40.7163   \n",
       "\n",
       "                           5          6          7          8          9   \\\n",
       "Drug                Capomulin  Capomulin  Capomulin  Capomulin  Capomulin   \n",
       "Timepoint                  25         30         35         40         45   \n",
       "Tumor Volume (mm3)    39.9395    38.7693    37.8168     36.958    36.2361   \n",
       "\n",
       "                    ...         90         91         92         93  \\\n",
       "Drug                ...  Zoniferol  Zoniferol  Zoniferol  Zoniferol   \n",
       "Timepoint           ...          0          5         10         15   \n",
       "Tumor Volume (mm3)  ...         45    46.8518    48.6899    50.7791   \n",
       "\n",
       "                           94         95         96         97         98  \\\n",
       "Drug                Zoniferol  Zoniferol  Zoniferol  Zoniferol  Zoniferol   \n",
       "Timepoint                  20         25         30         35         40   \n",
       "Tumor Volume (mm3)    53.1703    55.4329    57.7135    60.0894    62.9167   \n",
       "\n",
       "                           99  \n",
       "Drug                Zoniferol  \n",
       "Timepoint                  45  \n",
       "Tumor Volume (mm3)    65.9609  \n",
       "\n",
       "[3 rows x 100 columns]"
      ]
     },
     "execution_count": 6,
     "metadata": {},
     "output_type": "execute_result"
    }
   ],
   "source": [
    "mean_tumor_df.set_index(\"Timepoint\")\n",
    "mean_tumor_df2 = mean_tumor_df.T\n",
    "mean_tumor_df2.head()\n",
    "#JGP or maybe create new data frame from  "
   ]
  },
  {
   "cell_type": "code",
   "execution_count": 8,
   "metadata": {},
   "outputs": [
    {
     "data": {
      "text/plain": [
       "Mouse ID              1906\n",
       "Drug                  1906\n",
       "Timepoint             1906\n",
       "Tumor Volume (mm3)    1906\n",
       "Metastatic Sites      1906\n",
       "dtype: int64"
      ]
     },
     "execution_count": 8,
     "metadata": {},
     "output_type": "execute_result"
    }
   ],
   "source": [
    "mouse_clinical_df.count()"
   ]
  },
  {
   "cell_type": "code",
   "execution_count": 9,
   "metadata": {
    "scrolled": true
   },
   "outputs": [
    {
     "data": {
      "text/plain": [
       "<matplotlib.axes._subplots.AxesSubplot at 0x29e92db1c18>"
      ]
     },
     "execution_count": 9,
     "metadata": {},
     "output_type": "execute_result"
    },
    {
     "data": {
      "image/png": "[encoded data removed]",
      "text/plain": [
       "<Figure size 576x576 with 1 Axes>"
      ]
     },
     "metadata": {
      "needs_background": "light"
     },
     "output_type": "display_data"
    }
   ],
   "source": [
    "mouse_clinical_df.plot(kind=\"scatter\", x=\"Timepoint\", y=\"Tumor Volume (mm3)\", grid=True, figsize=(8,8), title=\"Tumor Volume Changes Over Time\")"
   ]
  },
  {
   "cell_type": "code",
   "execution_count": 10,
   "metadata": {},
   "outputs": [
    {
     "data": {
      "text/plain": [
       "<matplotlib.axes._subplots.AxesSubplot at 0x29e92debdd8>"
      ]
     },
     "execution_count": 10,
     "metadata": {},
     "output_type": "execute_result"
    },
    {
     "data": {
      "image/png": "[encoded data removed]",
      "text/plain": [
       "<Figure size 576x576 with 1 Axes>"
      ]
     },
     "metadata": {
      "needs_background": "light"
     },
     "output_type": "display_data"
    }
   ],
   "source": [
    "mouse_clinical_df.plot(kind=\"scatter\", x=\"Timepoint\", y=\"Metastatic Sites\", grid=True, figsize=(8,8), title=\"Metastatic Changes Over Time\")"
   ]
  },
  {
   "cell_type": "code",
   "execution_count": null,
   "metadata": {},
   "outputs": [],
   "source": []
  }
 ],
 "metadata": {
  "kernelspec": {
   "display_name": "Python 3",
   "language": "python",
   "name": "python3"
  },
  "language_info": {
   "codemirror_mode": {
    "name": "ipython",
    "version": 3
   },
   "file_extension": ".py",
   "mimetype": "text/x-python",
   "name": "python",
   "nbconvert_exporter": "python",
   "pygments_lexer": "ipython3",
   "version": "3.7.4"
  }
 },
 "nbformat": 4,
 "nbformat_minor": 2
}
